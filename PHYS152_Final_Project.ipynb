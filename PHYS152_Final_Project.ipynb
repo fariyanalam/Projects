{
  "nbformat": 4,
  "nbformat_minor": 0,
  "metadata": {
    "colab": {
      "provenance": [],
      "gpuType": "T4",
      "authorship_tag": "ABX9TyPkhq0VqvIDp453yIHkpi8E",
      "include_colab_link": true
    },
    "kernelspec": {
      "name": "python3",
      "display_name": "Python 3"
    },
    "language_info": {
      "name": "python"
    },
    "accelerator": "GPU"
  },
  "cells": [
    {
      "cell_type": "markdown",
      "metadata": {
        "id": "view-in-github",
        "colab_type": "text"
      },
      "source": [
        "<a href=\"https://colab.research.google.com/github/fariyanalam/Projects/blob/main/PHYS152_Final_Project.ipynb\" target=\"_parent\"><img src=\"https://colab.research.google.com/assets/colab-badge.svg\" alt=\"Open In Colab\"/></a>"
      ]
    },
    {
      "cell_type": "markdown",
      "source": [
        "##Supersymmetric (SUSY) and Standard Model Particle Classification using Autoencoder + Classifier\n"
      ],
      "metadata": {
        "id": "B7440uJv7SWm"
      }
    },
    {
      "cell_type": "markdown",
      "source": [
        "**Introduction and Overview:**\n",
        "\n",
        "The Large Hadron Collider (LHC) is a particle accelerator that allows for the collision of two high-energy particle beams which travel close to the speed of light. Since the introduction of the LHC, there have been significant advancements in particle physics,\n",
        "including the discovery of the Higgs boson. The discovery of the Higgs boson proved the theoretical models beyond the Standard Model. Supersymmetric (SUSY) is considered as an extension of the Standard Model, predicting that every particle in the Standard Model has a partner particle with a different spin. Given the distinct spin values of\n",
        "fermions and bosons, physicists can analyze collision data to identify differences in decay patterns and interaction properties.\n"
      ],
      "metadata": {
        "id": "gfL-rxzV7jdK"
      }
    },
    {
      "cell_type": "markdown",
      "source": [
        "**Data Loading & Exploration:**\n",
        "\n",
        "First, we will import the dataset from Kaggle and visualize the data distributions after scaling. The purpose of this step is to get an idea of skewness, outliers, or abnormalities. We will choose a \"random feature X\" to check for normal distribution and skewness."
      ],
      "metadata": {
        "id": "IWA7dOkf_Dtz"
      }
    },
    {
      "cell_type": "code",
      "source": [
        "import pandas as pd\n",
        "import matplotlib.pyplot as plt\n",
        "import seaborn as sns\n",
        "from sklearn.model_selection import train_test_split\n",
        "from sklearn.preprocessing import StandardScaler\n",
        "import kagglehub\n",
        "\n",
        "# Download and load the latest version of the dataset\n",
        "path = kagglehub.dataset_download(\"janus137/supersymmetry-dataset\")\n",
        "\n",
        "dataset_path = \"/root/.cache/kagglehub/datasets/janus137/supersymmetry-dataset/versions/1/supersymmetry_dataset.csv\"\n",
        "data = pd.read_csv(dataset_path, header=0)\n",
        "\n",
        "print(data.head())\n",
        "\n",
        "# Define the features and labels (0 = Standard Model, 1 = SUSY)\n",
        "X = data.iloc[:, 1:]\n",
        "y = data.iloc[:, 0]\n",
        "\n",
        "# Normalize features by scaling\n",
        "scaler = StandardScaler()\n",
        "X_scaled = scaler.fit_transform(X)\n",
        "\n",
        "# Split the data into training and testing sets\n",
        "X_train, X_test, y_train, y_test = train_test_split(X_scaled, y, test_size=0.2, random_state=42)\n",
        "\n",
        "# Visualize a single feature distribution\n",
        "plt.figure(figsize=(8, 5))\n",
        "sns.histplot(X_scaled[:, 0], bins=50, kde=True)\n",
        "plt.title(\"Distribution of Standardized Feature 'X'\")\n",
        "plt.xlabel(\"Standardized Feature 'X' Value\")\n",
        "plt.ylabel(\"Frequency\")\n",
        "plt.show()"
      ],
      "metadata": {
        "colab": {
          "base_uri": "https://localhost:8080/",
          "height": 1000
        },
        "id": "93YF6FGdAk2L",
        "outputId": "2873ba82-0973-4d29-a232-488d9ffb47d9"
      },
      "execution_count": null,
      "outputs": [
        {
          "output_type": "stream",
          "name": "stdout",
          "text": [
            "Warning: Looks like you're using an outdated `kagglehub` version (installed: 0.3.7), please consider upgrading to the latest version (0.3.8).\n",
            "Downloading from https://www.kaggle.com/api/v1/datasets/download/janus137/supersymmetry-dataset?dataset_version_number=1...\n"
          ]
        },
        {
          "output_type": "stream",
          "name": "stderr",
          "text": [
            "100%|██████████| 762M/762M [00:10<00:00, 76.5MB/s]"
          ]
        },
        {
          "output_type": "stream",
          "name": "stdout",
          "text": [
            "Extracting files...\n"
          ]
        },
        {
          "output_type": "stream",
          "name": "stderr",
          "text": [
            "\n"
          ]
        },
        {
          "output_type": "stream",
          "name": "stdout",
          "text": [
            "   SUSY  lepton 1 pT  lepton 1 eta  lepton 1 phi  lepton 2 pT  lepton 2 eta  \\\n",
            "0   0.0     0.707258      0.613159     -0.763354     1.010814      1.672101   \n",
            "1   0.0     0.493745     -1.745581     -0.640968     0.576161     -0.514477   \n",
            "2   1.0     1.305413      0.283820     -1.149154     0.507217     -0.194161   \n",
            "3   1.0     0.809715     -0.358303     -0.497172     0.787675      0.027419   \n",
            "4   0.0     0.912852      1.797455     -1.360165     0.496723      1.199644   \n",
            "\n",
            "   lepton 2 phi  missing energy magnitude  missing energy phi   MET_rel  \\\n",
            "0      1.544314                  0.342641            0.286944  0.514347   \n",
            "1     -0.629788                  0.585841            0.874038  0.879419   \n",
            "2      1.313993                  0.659832            0.619593  0.534922   \n",
            "3      1.201305                  0.790556           -0.861923  0.740287   \n",
            "4      0.627462                  1.206452           -1.362983  0.033791   \n",
            "\n",
            "   axial MET       M_R    M_TR_2         R       MT2       S_R  M_Delta_R  \\\n",
            "0  -0.008000  0.832800  0.646217  0.688581  1.159059  0.807485   0.890080   \n",
            "1  -0.221701  0.553944  0.770422  1.234180  1.671171  0.511589   1.255531   \n",
            "2  -0.320298  0.861971  1.085602  1.117620  1.199941  0.754778   0.984459   \n",
            "3   0.890525  0.684771  0.717640  0.929989  0.341225  0.683829   0.492741   \n",
            "4   1.509121  0.659545  0.652570  0.878010  0.000000  0.580894   0.143379   \n",
            "\n",
            "   dPhi_r_b  cos(theta_r1)  \n",
            "0  0.272718       0.014631  \n",
            "1  0.521592       0.158222  \n",
            "2  0.235892       0.601631  \n",
            "3  1.283829       0.115851  \n",
            "4  1.438492       0.230821  \n"
          ]
        },
        {
          "output_type": "display_data",
          "data": {
            "text/plain": [
              "<Figure size 800x500 with 1 Axes>"
            ],
            "image/png": "[encoded data removed]"
          },
          "metadata": {}
        }
      ]
    },
    {
      "cell_type": "markdown",
      "source": [
        "**Autoencoder for Feature Extraction:**\n",
        "\n",
        "Our next goal is to compress the features from the last step into a lower-dimension representation, which we'll feed into the binary classifier in the next step. The purpose of this step is to identify key patterns in the data and to reduce the noise (if any) in our dataset."
      ],
      "metadata": {
        "id": "GQFLYgiK_P_f"
      }
    },
    {
      "cell_type": "code",
      "source": [
        "import torch\n",
        "import torch.nn as nn\n",
        "import torch.optim as optim\n",
        "from torch.utils.data import DataLoader, TensorDataset\n",
        "\n",
        "# Convert data to PyTorch tensors\n",
        "X_train_tensor = torch.tensor(X_train, dtype=torch.float32)\n",
        "X_test_tensor = torch.tensor(X_test, dtype=torch.float32)\n",
        "\n",
        "#Defining the hyperparameters\n",
        "input_dim = X_train.shape[1] #18 features\n",
        "hidden_dim = 16\n",
        "latent_dim = 8\n",
        "learning_rate = 0.001\n",
        "batch_size = 512\n",
        "epochs = 15\n",
        "\n",
        "#Definining the Autoencoder\n",
        "class Autoencoder(nn.Module):\n",
        "    def __init__(self):\n",
        "        super(Autoencoder, self).__init__()\n",
        "        self.encoder = nn.Sequential(\n",
        "            nn.Linear(input_dim, hidden_dim),\n",
        "            nn.LeakyReLU(),\n",
        "            nn.Linear(hidden_dim, latent_dim),\n",
        "            nn.LeakyReLU()\n",
        "        )\n",
        "        self.decoder = nn.Sequential(\n",
        "            nn.Linear(latent_dim, hidden_dim),\n",
        "            nn.LeakyReLU(),\n",
        "            nn.Linear(hidden_dim, input_dim),\n",
        "        )\n",
        "\n",
        "    def forward(self, x):\n",
        "        encoded = self.encoder(x)\n",
        "        decoded = self.decoder(encoded)\n",
        "        return decoded, encoded\n",
        "\n",
        "#Initalizing the model, loss function, and optimizer\n",
        "autoencoder = Autoencoder()\n",
        "criterion = nn.MSELoss()\n",
        "optimizer = optim.Adam(autoencoder.parameters(), lr=learning_rate)\n",
        "\n",
        "#Dataloader\n",
        "train_dataset = TensorDataset(X_train_tensor)\n",
        "train_loader = DataLoader(train_dataset, batch_size=512, shuffle=True)\n",
        "\n",
        "#Training loop\n",
        "for epoch in range(epochs):\n",
        "    for batch in train_loader:\n",
        "        inputs = batch[0]\n",
        "        optimizer.zero_grad()\n",
        "        outputs, encoded = autoencoder(inputs)\n",
        "        loss = criterion(outputs, inputs)\n",
        "        loss.backward()\n",
        "        optimizer.step()\n",
        "\n",
        "    print(f'Epoch [{epoch+1}/{epochs}], Loss: {loss.item():.4f}')\n",
        "\n",
        "torch.save(autoencoder.encoder.state_dict(), 'encoder.pth')"
      ],
      "metadata": {
        "colab": {
          "base_uri": "https://localhost:8080/"
        },
        "id": "Ji80vCx1CZC2",
        "outputId": "faf53717-2724-4975-b96a-f970abfc6e7f"
      },
      "execution_count": null,
      "outputs": [
        {
          "output_type": "stream",
          "name": "stdout",
          "text": [
            "Epoch [1/15], Loss: 0.0945\n",
            "Epoch [2/15], Loss: 0.1006\n",
            "Epoch [3/15], Loss: 0.0918\n",
            "Epoch [4/15], Loss: 0.0834\n",
            "Epoch [5/15], Loss: 0.0672\n",
            "Epoch [6/15], Loss: 0.0753\n",
            "Epoch [7/15], Loss: 0.0712\n",
            "Epoch [8/15], Loss: 0.0637\n",
            "Epoch [9/15], Loss: 0.0590\n",
            "Epoch [10/15], Loss: 0.0692\n",
            "Epoch [11/15], Loss: 0.0717\n",
            "Epoch [12/15], Loss: 0.0633\n",
            "Epoch [13/15], Loss: 0.0723\n",
            "Epoch [14/15], Loss: 0.0642\n",
            "Epoch [15/15], Loss: 0.0579\n"
          ]
        }
      ]
    },
    {
      "cell_type": "markdown",
      "source": [
        "**Binary Classifier:**\n",
        "\n",
        "[Built classifier using compressed features]"
      ],
      "metadata": {
        "id": "2uO-LVWl_lCu"
      }
    },
    {
      "cell_type": "markdown",
      "source": [
        "**Conclusion:**\n",
        "\n",
        "[Summarize findings and potential improvements]"
      ],
      "metadata": {
        "id": "FbDrnVgP_nYy"
      }
    }
  ]
}